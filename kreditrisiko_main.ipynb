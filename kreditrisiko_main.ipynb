{
 "cells": [
  {
   "cell_type": "markdown",
   "metadata": {},
   "source": [
    "# Kreditrisiko-Analyse\n",
    "\n",
    "Der vorliegende Datensaz enthält Informationen zu gewissen Bankkunden (wie z. B. Einkommen, Kredithistorie, Alter) und Kreditkonditionen (wie z.B. Zins).\n",
    "\n",
    "Das Ziel ist, anhand der gegebenen Daten, Kreditwürdigkeit von Kunden zu analyisieren und ein Modell zu erstellen, das die Kreditwürdigkeit einer beliebigen Person auf Basis der gegebenen Merkmale voraussagen kann."
   ]
  },
  {
   "cell_type": "markdown",
   "metadata": {},
   "source": [
    "## Datenquelle\n",
    "Der Datensatz stammt aus [kaggle](https://www.kaggle.com/datasets/laotse/credit-risk-dataset?resource=download)  \n",
    "Im Folgenden ein Überblick auf die Merkmale (Spaltennamen) und ihre Erläuterungen:"
   ]
  },
  {
   "cell_type": "markdown",
   "metadata": {},
   "source": [
    "<table>\n",
    "<thead>\n",
    "<tr>\n",
    "<th><strong>Feature Name</strong></th>\n",
    "<th><strong>Description</strong></th>\n",
    "</tr>\n",
    "</thead>\n",
    "<tbody>\n",
    "<tr>\n",
    "<td>person_age</td>\n",
    "<td>Age</td>\n",
    "</tr>\n",
    "<tr>\n",
    "<td>person_income</td>\n",
    "<td>Annual Income</td>\n",
    "</tr>\n",
    "<tr>\n",
    "<td>person<em>home</em>ownership</td>\n",
    "<td>Home ownership</td>\n",
    "</tr>\n",
    "<tr>\n",
    "<td>person<em>emp</em>length</td>\n",
    "<td>Employment length (in years)</td>\n",
    "</tr>\n",
    "<tr>\n",
    "<td>loan_intent</td>\n",
    "<td>Loan intent</td>\n",
    "</tr>\n",
    "<tr>\n",
    "<td>loan_grade</td>\n",
    "<td>Loan grade</td>\n",
    "</tr>\n",
    "<tr>\n",
    "<td>loan_amnt</td>\n",
    "<td>Loan amount</td>\n",
    "</tr>\n",
    "<tr>\n",
    "<td>loan<em>int</em>rate</td>\n",
    "<td>Interest rate</td>\n",
    "</tr>\n",
    "<tr>\n",
    "<td>loan_status</td>\n",
    "<td>Loan status (0 is non default 1 is default)</td>\n",
    "</tr>\n",
    "<tr>\n",
    "<td>loan<em>percent</em>income</td>\n",
    "<td>Percent income</td>\n",
    "</tr>\n",
    "<tr>\n",
    "<td>cb<em>person</em>default<em>on</em>file</td>\n",
    "<td>Historical default</td>\n",
    "</tr>\n",
    "<tr>\n",
    "<td>cb<em>preson</em>cred<em>hist</em>length</td>\n",
    "<td>Credit history length</td>\n",
    "</tr>\n",
    "</tbody>\n",
    "</table>"
   ]
  },
  {
   "cell_type": "markdown",
   "metadata": {},
   "source": [
    "### Aufgaben:\n",
    "1. Erstellen Sie aus `credit_risk_dataset.csv` ein Pandas Dataframe\n",
    "2. Führen Sie eine explorative Datenanalyse durch - inklusive Visualisierungen\n",
    "3. Erstellen Sie verschiedene Klassifikationsmodelle und vergleichen Sie ihre Leistungen (gerne auch anhand unterschiedlichen Parameter)  \n",
    "_Hinweis:_ Die Zielvariable (Target) ist `loan_status`\n",
    "4. Speichern Sie das beste Modell als Datei"
   ]
  },
  {
   "cell_type": "markdown",
   "metadata": {},
   "source": [
    "### [Explorative Datenanalyse des gegebenen Datensatzes](./kreditrisiko_eda.ipynb)"
   ]
  },
  {
   "cell_type": "markdown",
   "metadata": {},
   "source": [
    "### [Modellerstellung zur Bewertung des Kreditrisikos](./kreditrisiko_modell.ipynb)"
   ]
  }
 ],
 "metadata": {
  "kernelspec": {
   "display_name": "Python 3 (ipykernel)",
   "language": "python",
   "name": "python3"
  },
  "language_info": {
   "codemirror_mode": {
    "name": "ipython",
    "version": 3
   },
   "file_extension": ".py",
   "mimetype": "text/x-python",
   "name": "python",
   "nbconvert_exporter": "python",
   "pygments_lexer": "ipython3",
   "version": "3.9.6"
  }
 },
 "nbformat": 4,
 "nbformat_minor": 4
}
