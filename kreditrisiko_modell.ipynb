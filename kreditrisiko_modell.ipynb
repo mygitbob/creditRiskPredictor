{
 "cells": [
  {
   "cell_type": "markdown",
   "id": "54e37f32-7fcb-4dac-9dbc-69e4877cf1ed",
   "metadata": {},
   "source": [
    "## Kreditrisiko - Modellerstellung"
   ]
  },
  {
   "cell_type": "markdown",
   "id": "fcc1bb82-3b60-411b-80f2-272ec84a9d3e",
   "metadata": {},
   "source": [
    "#### [Kreditrisiko - Aufgabenstellung](./kreditrisiko_main.ipynb)\n",
    "#### [Kreditrisiko - Explorative Datenanalyse](./kreditrisiko_eda.ipynb)"
   ]
  },
  {
   "cell_type": "code",
   "execution_count": 1,
   "id": "65103bf6-2a69-4109-8917-dfea083bbe54",
   "metadata": {},
   "outputs": [],
   "source": [
    "import numpy as np\n",
    "import pandas as pd\n",
    "from sklearn.linear_model import LogisticRegression\n",
    "from sklearn.svm import SVC\n",
    "from sklearn.metrics import plot_confusion_matrix \n",
    "from sklearn.model_selection import train_test_split\n",
    "from sklearn.metrics import classification_report\n",
    "from sklearn.metrics import confusion_matrix\n",
    "from sklearn.model_selection import GridSearchCV\n",
    "import matplotlib.pyplot as plt\n",
    "%matplotlib inline\n",
    "import seaborn as sns\n",
    "import joblib as jl\n",
    "import warnings; warnings.filterwarnings('ignore')"
   ]
  },
  {
   "cell_type": "code",
   "execution_count": 2,
   "id": "7f83fed9-5c2d-40fb-89a3-8cceae8f39e0",
   "metadata": {},
   "outputs": [
    {
     "data": {
      "text/html": [
       "<div>\n",
       "<style scoped>\n",
       "    .dataframe tbody tr th:only-of-type {\n",
       "        vertical-align: middle;\n",
       "    }\n",
       "\n",
       "    .dataframe tbody tr th {\n",
       "        vertical-align: top;\n",
       "    }\n",
       "\n",
       "    .dataframe thead th {\n",
       "        text-align: right;\n",
       "    }\n",
       "</style>\n",
       "<table border=\"1\" class=\"dataframe\">\n",
       "  <thead>\n",
       "    <tr style=\"text-align: right;\">\n",
       "      <th></th>\n",
       "      <th>person_income</th>\n",
       "      <th>loan_amnt</th>\n",
       "      <th>loan_int_rate</th>\n",
       "      <th>loan_percent_income</th>\n",
       "      <th>loan_status</th>\n",
       "    </tr>\n",
       "  </thead>\n",
       "  <tbody>\n",
       "    <tr>\n",
       "      <th>0</th>\n",
       "      <td>-1.810158</td>\n",
       "      <td>-1.368690</td>\n",
       "      <td>0.033433</td>\n",
       "      <td>-0.553549</td>\n",
       "      <td>0</td>\n",
       "    </tr>\n",
       "    <tr>\n",
       "      <th>1</th>\n",
       "      <td>-1.810158</td>\n",
       "      <td>-0.600437</td>\n",
       "      <td>0.600566</td>\n",
       "      <td>1.806523</td>\n",
       "      <td>0</td>\n",
       "    </tr>\n",
       "    <tr>\n",
       "      <th>2</th>\n",
       "      <td>0.385414</td>\n",
       "      <td>4.435886</td>\n",
       "      <td>1.374229</td>\n",
       "      <td>1.806523</td>\n",
       "      <td>0</td>\n",
       "    </tr>\n",
       "    <tr>\n",
       "      <th>3</th>\n",
       "      <td>-0.050558</td>\n",
       "      <td>4.435886</td>\n",
       "      <td>1.059519</td>\n",
       "      <td>1.806523</td>\n",
       "      <td>1</td>\n",
       "    </tr>\n",
       "    <tr>\n",
       "      <th>4</th>\n",
       "      <td>-1.798375</td>\n",
       "      <td>-1.112605</td>\n",
       "      <td>-1.277859</td>\n",
       "      <td>1.806523</td>\n",
       "      <td>0</td>\n",
       "    </tr>\n",
       "  </tbody>\n",
       "</table>\n",
       "</div>"
      ],
      "text/plain": [
       "   person_income  loan_amnt  loan_int_rate  loan_percent_income  loan_status\n",
       "0      -1.810158  -1.368690       0.033433            -0.553549            0\n",
       "1      -1.810158  -0.600437       0.600566             1.806523            0\n",
       "2       0.385414   4.435886       1.374229             1.806523            0\n",
       "3      -0.050558   4.435886       1.059519             1.806523            1\n",
       "4      -1.798375  -1.112605      -1.277859             1.806523            0"
      ]
     },
     "execution_count": 2,
     "metadata": {},
     "output_type": "execute_result"
    }
   ],
   "source": [
    "df_kredit = pd.read_csv('credit_risk_clean.csv')\n",
    "df_kredit.head()"
   ]
  },
  {
   "cell_type": "code",
   "execution_count": 5,
   "id": "d0369ba4-51d6-4d53-bc6b-8634891b50de",
   "metadata": {},
   "outputs": [],
   "source": [
    "features = df_kredit.drop('loan_status', axis=1)\n",
    "target = df_kredit.loan_status"
   ]
  },
  {
   "cell_type": "code",
   "execution_count": 4,
   "id": "abd8aa20-d3ad-4af2-bb50-20131dc81b6a",
   "metadata": {},
   "outputs": [],
   "source": [
    "X_train, X_test, y_train, y_test = train_test_split(\n",
    "                                        features, \n",
    "                                        target, \n",
    "                                        random_state=42)\n",
    "\n",
    "y_true = y_test"
   ]
  },
  {
   "cell_type": "code",
   "execution_count": 11,
   "id": "f6f25adb-5a62-4817-a9be-9064ddcd55c1",
   "metadata": {},
   "outputs": [],
   "source": [
    "'''\n",
    "param_lr = {\n",
    "    'C': np.logspace(-4, 2, 10),\n",
    "    'penalty': ['l1', 'l2'],\n",
    "    'solver': ['newton-cg', 'lbfgs'],\n",
    "    'max_iter': [1000]\n",
    "\n",
    "\n",
    "}\n",
    "\n",
    "param_svc = {\n",
    "    'C': np.logspace(-4, 2, 10),\n",
    "    'gamma': np.logspace(-5, 1, 10),\n",
    "    'kernel': ['rbf', 'sigmoid'],\n",
    "    'max_iter': [1000]\n",
    "}\n",
    "param_svc={\n",
    "    'propability' :True\n",
    "}'''"
   ]
  },
  {
   "cell_type": "code",
   "execution_count": 14,
   "id": "250c2510-3670-426a-ba4a-d7b8609775fc",
   "metadata": {},
   "outputs": [
    {
     "data": {
      "text/plain": [
       "SVC(max_iter=1000, probability=True)"
      ]
     },
     "execution_count": 14,
     "metadata": {},
     "output_type": "execute_result"
    }
   ],
   "source": [
    "'''\n",
    "%%capture\n",
    "grid_svc = GridSearchCV(\n",
    "                   SVC(),\n",
    "                   param_svc,\n",
    "                   refit=True,\n",
    "                   verbose=3\n",
    ")\n",
    "\n",
    "grid_svc.fit(X_train,y_train)\n",
    "'''\n",
    "svc1 = SVC(\n",
    "                probability=True,\n",
    "                max_iter=1000\n",
    ")\n",
    "\n",
    "svc1.fit(X_train,y_train)\n",
    "\n"
   ]
  },
  {
   "cell_type": "code",
   "execution_count": 15,
   "id": "99d63eb0-485e-480f-8523-d10a8c9c1db7",
   "metadata": {},
   "outputs": [
    {
     "name": "stdout",
     "output_type": "stream",
     "text": [
      "\n",
      "Confusion Matrix for LogisticRegression:\n"
     ]
    },
    {
     "data": {
      "image/png": "[encoded data removed]",
      "text/plain": [
       "<Figure size 432x288 with 1 Axes>"
      ]
     },
     "metadata": {
      "needs_background": "light"
     },
     "output_type": "display_data"
    },
    {
     "name": "stdout",
     "output_type": "stream",
     "text": [
      "              precision    recall  f1-score   support\n",
      "\n",
      "           0       0.85      0.69      0.76      5377\n",
      "           1       0.24      0.44      0.31      1164\n",
      "\n",
      "    accuracy                           0.65      6541\n",
      "   macro avg       0.54      0.57      0.54      6541\n",
      "weighted avg       0.74      0.65      0.68      6541\n",
      "\n"
     ]
    }
   ],
   "source": [
    "y_pred_lr = svc1.predict(X_test)\n",
    "report_lr = classification_report(y_true,y_pred_lr)\n",
    "\n",
    "print('\\nConfusion Matrix for LogisticRegression:')\n",
    "plot_confusion_matrix(svc1, \n",
    "                      X_test,\n",
    "                      y_test,\n",
    "                      cmap=plt.cm.Blues,\n",
    "                      colorbar=False)\n",
    "plt.show()\n",
    "print(report_lr)"
   ]
  },
  {
   "cell_type": "code",
   "execution_count": 31,
   "id": "91764f50-5b47-44fa-8a01-c4f469f45bba",
   "metadata": {},
   "outputs": [],
   "source": [
    "%%capture\n",
    "grid_lr = GridSearchCV(\n",
    "                   LogisticRegression(),\n",
    "                   param_lr,\n",
    "                   refit=True,\n",
    "                   verbose=3\n",
    ")\n",
    "\n",
    "grid_lr.fit(X_train,y_train)"
   ]
  },
  {
   "cell_type": "code",
   "execution_count": 32,
   "id": "afc64b80-56fc-48ce-94a3-43c5f8e781a3",
   "metadata": {},
   "outputs": [
    {
     "data": {
      "text/plain": [
       "LogisticRegression(C=4.641588833612772, max_iter=1000, solver='newton-cg')"
      ]
     },
     "execution_count": 32,
     "metadata": {},
     "output_type": "execute_result"
    }
   ],
   "source": [
    "grid_lr.best_estimator_"
   ]
  },
  {
   "cell_type": "code",
   "execution_count": 43,
   "id": "45a11d30-c791-4da5-8257-75fe8bd12739",
   "metadata": {},
   "outputs": [
    {
     "data": {
      "text/plain": [
       "SVC(gamma=0.00021544346900318823, max_iter=1000)"
      ]
     },
     "execution_count": 43,
     "metadata": {},
     "output_type": "execute_result"
    }
   ],
   "source": [
    "grid_svc.best_estimator_"
   ]
  },
  {
   "cell_type": "markdown",
   "id": "8a5c7460-6123-4753-ad1a-03f1f70eeb25",
   "metadata": {},
   "source": [
    "Ich weiss nicht wieso die anderen Parameter hier nicht beruecksichtigt worden sind,\n",
    "es dauert aber definitiv zu lange um es nochmal laufen zu lassen ..."
   ]
  },
  {
   "cell_type": "markdown",
   "id": "0c3de2b0-3839-403b-9dfa-dcdcac8730b3",
   "metadata": {},
   "source": [
    "#### Pipe"
   ]
  },
  {
   "cell_type": "code",
   "execution_count": null,
   "id": "cbb4ff74-1a71-4d73-9792-d1f5ef7eb3ce",
   "metadata": {},
   "outputs": [],
   "source": [
    "from sklearn.pipeline import Pipeline\n",
    "from sklearn.preprocessing import StandardScaler\n",
    "\n",
    "pipe = Pipeline([('scaler', StandardScaler()), ('svc', SVC())])\n",
    "pipe.fit(X_train, y_train)"
   ]
  },
  {
   "cell_type": "markdown",
   "id": "5b84703e-abe6-41b4-8bf4-1a104240f3d0",
   "metadata": {},
   "source": [
    "### Modell Auswertung"
   ]
  },
  {
   "cell_type": "markdown",
   "id": "eb20e296-9f2d-4306-ab19-d0bbaffe4eed",
   "metadata": {},
   "source": [
    "#### LogisticRegession"
   ]
  },
  {
   "cell_type": "code",
   "execution_count": 34,
   "id": "bc111f02-983e-484a-9ef5-d019a3236559",
   "metadata": {},
   "outputs": [
    {
     "name": "stdout",
     "output_type": "stream",
     "text": [
      "\n",
      "Confusion Matrix for LogisticRegression:\n"
     ]
    },
    {
     "data": {
      "image/png": "[encoded data removed]",
      "text/plain": [
       "<Figure size 432x288 with 1 Axes>"
      ]
     },
     "metadata": {
      "needs_background": "light"
     },
     "output_type": "display_data"
    },
    {
     "name": "stdout",
     "output_type": "stream",
     "text": [
      "              precision    recall  f1-score   support\n",
      "\n",
      "           0       0.88      0.94      0.91      4990\n",
      "           1       0.76      0.58      0.66      1551\n",
      "\n",
      "    accuracy                           0.86      6541\n",
      "   macro avg       0.82      0.76      0.78      6541\n",
      "weighted avg       0.85      0.86      0.85      6541\n",
      "\n"
     ]
    }
   ],
   "source": [
    "y_pred_lr = grid_lr.predict(X_test)\n",
    "report_lr = classification_report(y_true,y_pred_lr)\n",
    "\n",
    "print('\\nConfusion Matrix for LogisticRegression:')\n",
    "plot_confusion_matrix(grid_lr, \n",
    "                      X_test,\n",
    "                      y_test,\n",
    "                      cmap=plt.cm.Blues,\n",
    "                      colorbar=False)\n",
    "plt.show()\n",
    "print(report_lr)"
   ]
  },
  {
   "cell_type": "markdown",
   "id": "c0f814fc-9b25-45ea-aeca-858afb787984",
   "metadata": {},
   "source": [
    "#### SVC"
   ]
  },
  {
   "cell_type": "code",
   "execution_count": 46,
   "id": "7b378068-9440-459a-b6c1-2ebc3169a9f0",
   "metadata": {},
   "outputs": [
    {
     "name": "stdout",
     "output_type": "stream",
     "text": [
      "\n",
      "Confusion Matrix for SVC:\n"
     ]
    },
    {
     "data": {
      "image/png": "[encoded data removed]",
      "text/plain": [
       "<Figure size 432x288 with 1 Axes>"
      ]
     },
     "metadata": {
      "needs_background": "light"
     },
     "output_type": "display_data"
    },
    {
     "name": "stdout",
     "output_type": "stream",
     "text": [
      "              precision    recall  f1-score   support\n",
      "\n",
      "           0       0.78      0.98      0.87      4990\n",
      "           1       0.65      0.12      0.21      1551\n",
      "\n",
      "    accuracy                           0.78      6541\n",
      "   macro avg       0.71      0.55      0.54      6541\n",
      "weighted avg       0.75      0.78      0.71      6541\n",
      "\n"
     ]
    }
   ],
   "source": [
    "y_pred_svc = grid_svc.predict(X_test)\n",
    "report_svc = classification_report(y_true,y_pred_svc)\n",
    "\n",
    "print('\\nConfusion Matrix for SVC:')\n",
    "plot_confusion_matrix(grid_svc, \n",
    "                      X_test,\n",
    "                      y_test,\n",
    "                      cmap=plt.cm.Blues,\n",
    "                      colorbar=False)\n",
    "plt.show()\n",
    "print(report_svc)"
   ]
  },
  {
   "cell_type": "markdown",
   "id": "5c008d79-a7d5-4db5-b107-f69d18a77674",
   "metadata": {},
   "source": [
    "### Pipe"
   ]
  },
  {
   "cell_type": "code",
   "execution_count": 13,
   "id": "cb598bd9-f3a4-4261-b85a-a25a13098e76",
   "metadata": {},
   "outputs": [
    {
     "name": "stdout",
     "output_type": "stream",
     "text": [
      "\n",
      "Confusion Matrix for Pipe_SVC:\n"
     ]
    },
    {
     "data": {
      "image/png": "[encoded data removed]",
      "text/plain": [
       "<Figure size 432x288 with 1 Axes>"
      ]
     },
     "metadata": {
      "needs_background": "light"
     },
     "output_type": "display_data"
    },
    {
     "name": "stdout",
     "output_type": "stream",
     "text": [
      "              precision    recall  f1-score   support\n",
      "\n",
      "           0       0.90      0.99      0.94      4990\n",
      "           1       0.94      0.66      0.78      1551\n",
      "\n",
      "    accuracy                           0.91      6541\n",
      "   macro avg       0.92      0.82      0.86      6541\n",
      "weighted avg       0.91      0.91      0.90      6541\n",
      "\n",
      "\n"
     ]
    }
   ],
   "source": [
    "y_pred_pipe = pipe.predict(X_test)\n",
    "report_pipe = classification_report(y_true,y_pred_pipe)\n",
    "\n",
    "print('\\nConfusion Matrix for Pipe_SVC:')\n",
    "plot_confusion_matrix(pipe, \n",
    "                      X_test,\n",
    "                      y_test,\n",
    "                      cmap=plt.cm.Blues,\n",
    "                      colorbar=False)\n",
    "plt.show()\n",
    "print(report_pipe)\n",
    "print()"
   ]
  },
  {
   "cell_type": "markdown",
   "id": "9af7c0f8-d8da-4606-812d-4b5fbdc30914",
   "metadata": {},
   "source": [
    "#### Modelle speichern"
   ]
  },
  {
   "cell_type": "code",
   "execution_count": 47,
   "id": "9f2d8b43-4a3f-46bc-a0c4-ceca99b053d1",
   "metadata": {},
   "outputs": [
    {
     "data": {
      "text/plain": [
       "['Krediteinschaetzung_svc.H5']"
      ]
     },
     "execution_count": 47,
     "metadata": {},
     "output_type": "execute_result"
    }
   ],
   "source": [
    "jl.dump(grid_lr, 'Krediteinschaetzung_lr.H5')\n",
    "jl.dump(grid_svc, 'Krediteinschaetzung_svc.H5')"
   ]
  },
  {
   "cell_type": "code",
   "execution_count": 16,
   "id": "7a6d1256-7e78-422c-b899-234e601ff5f0",
   "metadata": {},
   "outputs": [
    {
     "data": {
      "text/plain": [
       "['Krediteinschaetzung_pipe_svc.H5']"
      ]
     },
     "execution_count": 16,
     "metadata": {},
     "output_type": "execute_result"
    }
   ],
   "source": [
    "jl.dump(pipe, 'Krediteinschaetzung_pipe_svc.H5')"
   ]
  },
  {
   "cell_type": "code",
   "execution_count": null,
   "id": "12f64b14-cc3c-4953-af7e-69e666fe0448",
   "metadata": {},
   "outputs": [],
   "source": [
    "#'TODO: features und target seperat speichern um schnelle Modelleinsetzung zu ermöglichen"
   ]
  }
 ],
 "metadata": {
  "kernelspec": {
   "display_name": "Python 3 (ipykernel)",
   "language": "python",
   "name": "python3"
  },
  "language_info": {
   "codemirror_mode": {
    "name": "ipython",
    "version": 3
   },
   "file_extension": ".py",
   "mimetype": "text/x-python",
   "name": "python",
   "nbconvert_exporter": "python",
   "pygments_lexer": "ipython3",
   "version": "3.9.13"
  }
 },
 "nbformat": 4,
 "nbformat_minor": 5
}
